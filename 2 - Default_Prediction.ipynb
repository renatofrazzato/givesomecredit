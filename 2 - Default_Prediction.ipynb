{
 "cells": [
  {
   "cell_type": "code",
   "execution_count": 1,
   "metadata": {},
   "outputs": [],
   "source": [
    "import pandas as pd\n",
    "import numpy as np\n",
    "from xgboost import XGBClassifier\n",
    "from sklearn.model_selection import GridSearchCV\n",
    "from sklearn.metrics import roc_auc_score\n",
    "from sklearn import ensemble\n",
    "import matplotlib.pyplot as plt\n",
    "import seaborn as sns\n",
    "sns.set()\n",
    "%matplotlib inline"
   ]
  },
  {
   "cell_type": "markdown",
   "metadata": {},
   "source": [
    "# Auxiliary functions"
   ]
  },
  {
   "cell_type": "code",
   "execution_count": 2,
   "metadata": {},
   "outputs": [],
   "source": [
    "def PlotDensity(df, target_variable, numerical_feature_variable, remove_extreme_values=False):\n",
    "    fig, ax = plt.subplots(figsize=(10,8))\n",
    "\n",
    "    df_aux = df[~df[numerical_feature_variable].isna()][[target_variable, numerical_feature_variable]].copy() #remove missing\n",
    "    if remove_extreme_values == True:\n",
    "        value_extreme = np.quantile(df_aux[numerical_feature_variable].values, 1-0.01) #remove extreme values, because these values may harm visualization\n",
    "        df_aux = df_aux[df_aux[numerical_feature_variable]<value_extreme].copy() #remove extreme values, because these values may harm visualization\n",
    "    \n",
    "    df_aux_1 = df_aux[df_aux[target_variable] == 1].copy() # select default group\n",
    "    df_aux_0 = df_aux[df_aux[target_variable] == 0].copy() # select non default group\n",
    "    \n",
    "    df_aux_1.columns = [target_variable, 'Default']\n",
    "    df_aux_0.columns = [target_variable, 'NonDefault']\n",
    "    \n",
    "    sns.kdeplot(df_aux_1['Default'], shade=True, ax=ax) #display density\n",
    "    sns.kdeplot(df_aux_0['NonDefault'], shade=True, ax=ax) #display density"
   ]
  },
  {
   "cell_type": "code",
   "execution_count": 3,
   "metadata": {},
   "outputs": [],
   "source": [
    "def ks(df, target_variable, score_variable):\n",
    "    \n",
    "    n0_total = df[df[target_variable]==0].shape[0]\n",
    "    n1_total = df[df[target_variable]==1].shape[0]\n",
    "    ks_value=0\n",
    "    for t in df[score_variable].values:\n",
    "        df_ks = df[df[score_variable]<=t].copy()\n",
    "\n",
    "        n0 = df_ks[df_ks[target_variable]==0].shape[0]\n",
    "        n1 = df_ks[df_ks[target_variable]==1].shape[0]\n",
    "\n",
    "        p0 = n0*1.0/n0_total\n",
    "        p1 = n1*1.0/n1_total\n",
    "        ks_aux = abs(p0-p1)\n",
    "\n",
    "        if ks_aux>ks_value:\n",
    "            ks_value = ks_aux\n",
    "            \n",
    "    return ks_value"
   ]
  },
  {
   "cell_type": "markdown",
   "metadata": {},
   "source": [
    "## Separating data variables in two sets\n",
    "1 - target variable\n",
    "\n",
    "2 - features variables (predictive variables)"
   ]
  },
  {
   "cell_type": "code",
   "execution_count": 4,
   "metadata": {},
   "outputs": [],
   "source": [
    "target = 'SeriousDlqin2yrs'\n",
    "features_variables = ['RevolvingUtilizationOfUnsecuredLines', 'age',\n",
    "                      'NumberOfTime30-59DaysPastDueNotWorse', 'DebtRatio', 'MonthlyIncome',\n",
    "                      'NumberOfOpenCreditLinesAndLoans', 'NumberOfTimes90DaysLate',\n",
    "                      'NumberRealEstateLoansOrLines', 'NumberOfTime60-89DaysPastDueNotWorse',\n",
    "                      'NumberOfDependents']"
   ]
  },
  {
   "cell_type": "markdown",
   "metadata": {},
   "source": [
    "## Loading Data"
   ]
  },
  {
   "cell_type": "code",
   "execution_count": 5,
   "metadata": {},
   "outputs": [],
   "source": [
    "df_dados = pd.read_csv('../cs-training.csv')"
   ]
  },
  {
   "cell_type": "code",
   "execution_count": 6,
   "metadata": {},
   "outputs": [
    {
     "data": {
      "text/html": [
       "<div>\n",
       "<style scoped>\n",
       "    .dataframe tbody tr th:only-of-type {\n",
       "        vertical-align: middle;\n",
       "    }\n",
       "\n",
       "    .dataframe tbody tr th {\n",
       "        vertical-align: top;\n",
       "    }\n",
       "\n",
       "    .dataframe thead th {\n",
       "        text-align: right;\n",
       "    }\n",
       "</style>\n",
       "<table border=\"1\" class=\"dataframe\">\n",
       "  <thead>\n",
       "    <tr style=\"text-align: right;\">\n",
       "      <th></th>\n",
       "      <th>Unnamed: 0</th>\n",
       "      <th>SeriousDlqin2yrs</th>\n",
       "      <th>RevolvingUtilizationOfUnsecuredLines</th>\n",
       "      <th>age</th>\n",
       "      <th>NumberOfTime30-59DaysPastDueNotWorse</th>\n",
       "      <th>DebtRatio</th>\n",
       "      <th>MonthlyIncome</th>\n",
       "      <th>NumberOfOpenCreditLinesAndLoans</th>\n",
       "      <th>NumberOfTimes90DaysLate</th>\n",
       "      <th>NumberRealEstateLoansOrLines</th>\n",
       "      <th>NumberOfTime60-89DaysPastDueNotWorse</th>\n",
       "      <th>NumberOfDependents</th>\n",
       "    </tr>\n",
       "  </thead>\n",
       "  <tbody>\n",
       "    <tr>\n",
       "      <th>0</th>\n",
       "      <td>1</td>\n",
       "      <td>1</td>\n",
       "      <td>0.766127</td>\n",
       "      <td>45</td>\n",
       "      <td>2</td>\n",
       "      <td>0.802982</td>\n",
       "      <td>9120.0</td>\n",
       "      <td>13</td>\n",
       "      <td>0</td>\n",
       "      <td>6</td>\n",
       "      <td>0</td>\n",
       "      <td>2.0</td>\n",
       "    </tr>\n",
       "    <tr>\n",
       "      <th>1</th>\n",
       "      <td>2</td>\n",
       "      <td>0</td>\n",
       "      <td>0.957151</td>\n",
       "      <td>40</td>\n",
       "      <td>0</td>\n",
       "      <td>0.121876</td>\n",
       "      <td>2600.0</td>\n",
       "      <td>4</td>\n",
       "      <td>0</td>\n",
       "      <td>0</td>\n",
       "      <td>0</td>\n",
       "      <td>1.0</td>\n",
       "    </tr>\n",
       "    <tr>\n",
       "      <th>2</th>\n",
       "      <td>3</td>\n",
       "      <td>0</td>\n",
       "      <td>0.658180</td>\n",
       "      <td>38</td>\n",
       "      <td>1</td>\n",
       "      <td>0.085113</td>\n",
       "      <td>3042.0</td>\n",
       "      <td>2</td>\n",
       "      <td>1</td>\n",
       "      <td>0</td>\n",
       "      <td>0</td>\n",
       "      <td>0.0</td>\n",
       "    </tr>\n",
       "    <tr>\n",
       "      <th>3</th>\n",
       "      <td>4</td>\n",
       "      <td>0</td>\n",
       "      <td>0.233810</td>\n",
       "      <td>30</td>\n",
       "      <td>0</td>\n",
       "      <td>0.036050</td>\n",
       "      <td>3300.0</td>\n",
       "      <td>5</td>\n",
       "      <td>0</td>\n",
       "      <td>0</td>\n",
       "      <td>0</td>\n",
       "      <td>0.0</td>\n",
       "    </tr>\n",
       "    <tr>\n",
       "      <th>4</th>\n",
       "      <td>5</td>\n",
       "      <td>0</td>\n",
       "      <td>0.907239</td>\n",
       "      <td>49</td>\n",
       "      <td>1</td>\n",
       "      <td>0.024926</td>\n",
       "      <td>63588.0</td>\n",
       "      <td>7</td>\n",
       "      <td>0</td>\n",
       "      <td>1</td>\n",
       "      <td>0</td>\n",
       "      <td>0.0</td>\n",
       "    </tr>\n",
       "  </tbody>\n",
       "</table>\n",
       "</div>"
      ],
      "text/plain": [
       "   Unnamed: 0  SeriousDlqin2yrs  RevolvingUtilizationOfUnsecuredLines  age  \\\n",
       "0           1                 1                              0.766127   45   \n",
       "1           2                 0                              0.957151   40   \n",
       "2           3                 0                              0.658180   38   \n",
       "3           4                 0                              0.233810   30   \n",
       "4           5                 0                              0.907239   49   \n",
       "\n",
       "   NumberOfTime30-59DaysPastDueNotWorse  DebtRatio  MonthlyIncome  \\\n",
       "0                                     2   0.802982         9120.0   \n",
       "1                                     0   0.121876         2600.0   \n",
       "2                                     1   0.085113         3042.0   \n",
       "3                                     0   0.036050         3300.0   \n",
       "4                                     1   0.024926        63588.0   \n",
       "\n",
       "   NumberOfOpenCreditLinesAndLoans  NumberOfTimes90DaysLate  \\\n",
       "0                               13                        0   \n",
       "1                                4                        0   \n",
       "2                                2                        1   \n",
       "3                                5                        0   \n",
       "4                                7                        0   \n",
       "\n",
       "   NumberRealEstateLoansOrLines  NumberOfTime60-89DaysPastDueNotWorse  \\\n",
       "0                             6                                     0   \n",
       "1                             0                                     0   \n",
       "2                             0                                     0   \n",
       "3                             0                                     0   \n",
       "4                             1                                     0   \n",
       "\n",
       "   NumberOfDependents  \n",
       "0                 2.0  \n",
       "1                 1.0  \n",
       "2                 0.0  \n",
       "3                 0.0  \n",
       "4                 0.0  "
      ]
     },
     "execution_count": 6,
     "metadata": {},
     "output_type": "execute_result"
    }
   ],
   "source": [
    "df_dados.head()"
   ]
  },
  {
   "cell_type": "markdown",
   "metadata": {},
   "source": [
    "## Fill missing Values\n",
    "* Use 1 - Exploratory results"
   ]
  },
  {
   "cell_type": "code",
   "execution_count": 7,
   "metadata": {},
   "outputs": [],
   "source": [
    "df_dados['MonthlyIncome'] = df_dados['MonthlyIncome'].fillna(6921.72)\n",
    "df_dados['NumberOfDependents'] = df_dados['NumberOfDependents'].fillna(-1)"
   ]
  },
  {
   "cell_type": "markdown",
   "metadata": {},
   "source": [
    "## Creating new features"
   ]
  },
  {
   "cell_type": "code",
   "execution_count": 8,
   "metadata": {},
   "outputs": [],
   "source": [
    "df_dados['income_per_capta'] = df_dados[['MonthlyIncome', 'NumberOfDependents']].apply(lambda x: x[0]/x[1] if x[1] != 0 and x[1] != -1 else x[0], axis=1).values\n",
    "df_dados['TotalNumberOfTimeDaysPastDue'] = df_dados[['NumberOfTime30-59DaysPastDueNotWorse', 'NumberOfTimes90DaysLate', 'NumberOfTime60-89DaysPastDueNotWorse']].apply(lambda x: x[0]+x[1]+x[2], axis=1).values"
   ]
  },
  {
   "cell_type": "code",
   "execution_count": 9,
   "metadata": {},
   "outputs": [],
   "source": [
    "features_variables.append('income_per_capta')\n",
    "features_variables.append('TotalNumberOfTimeDaysPastDue')"
   ]
  },
  {
   "cell_type": "markdown",
   "metadata": {},
   "source": [
    "## Split Train and test datasets\n",
    "* 10% for test dataset"
   ]
  },
  {
   "cell_type": "code",
   "execution_count": 10,
   "metadata": {},
   "outputs": [],
   "source": [
    "df_test = df_dados.sample(frac=0.1, random_state=221188, replace=False)\n",
    "df_train = df_dados.drop(index=df_test.index)"
   ]
  },
  {
   "cell_type": "code",
   "execution_count": 11,
   "metadata": {},
   "outputs": [
    {
     "name": "stdout",
     "output_type": "stream",
     "text": [
      "Shape Train: (135000, 14)    ------    Shape test: (15000, 14)\n"
     ]
    }
   ],
   "source": [
    "print('Shape Train:', df_train.shape, '   ------   ', 'Shape test:', df_test.shape)"
   ]
  },
  {
   "cell_type": "markdown",
   "metadata": {},
   "source": [
    "## Train the model\n",
    "* Im using gradient boosting, this algorithm creates an ensemble of trees, the best parameters is selected using grid search and cross validation and model selection criteria is according to area under roc curve."
   ]
  },
  {
   "cell_type": "code",
   "execution_count": 14,
   "metadata": {
    "scrolled": true
   },
   "outputs": [
    {
     "data": {
      "text/plain": [
       "GridSearchCV(cv=5, estimator=GradientBoostingClassifier(random_state=654321),\n",
       "             n_jobs=-1,\n",
       "             param_grid={'learning_rate': [0.01, 0.1, 1],\n",
       "                         'max_depth': [1, 2, 3], 'min_samples_split': [30],\n",
       "                         'n_estimators': [10, 20, 50, 100, 200, 300, 500, 700,\n",
       "                                          1000]},\n",
       "             scoring='roc_auc')"
      ]
     },
     "execution_count": 14,
     "metadata": {},
     "output_type": "execute_result"
    }
   ],
   "source": [
    "parameters_gb = params = {'n_estimators': [10, 20, 50, 100, 200, 300, 500, 700, 1000], 'max_depth': [1,2,3],\n",
    "                          'min_samples_split': [30], 'learning_rate': [0.01, 0.1, 1]}\n",
    "\n",
    "gradient_boosting = ensemble.GradientBoostingClassifier(random_state=654321)\n",
    "\n",
    "grid_search_obj = GridSearchCV(gradient_boosting, parameters_gb, n_jobs=-1, cv=5, scoring = 'roc_auc')\n",
    "\n",
    "grid_search_obj.fit(df_train[features_variables], df_train[target].values)"
   ]
  },
  {
   "cell_type": "code",
   "execution_count": 15,
   "metadata": {},
   "outputs": [],
   "source": [
    "gbm_classifier = grid_search_obj.best_estimator_"
   ]
  },
  {
   "cell_type": "code",
   "execution_count": 27,
   "metadata": {},
   "outputs": [
    {
     "data": {
      "text/plain": [
       "{'learning_rate': 0.1,\n",
       " 'max_depth': 2,\n",
       " 'min_samples_split': 30,\n",
       " 'n_estimators': 500}"
      ]
     },
     "execution_count": 27,
     "metadata": {},
     "output_type": "execute_result"
    }
   ],
   "source": [
    "grid_search_obj.best_params_"
   ]
  },
  {
   "cell_type": "markdown",
   "metadata": {},
   "source": [
    "## Feature Importance\n",
    "* Features ranked by prediction importance"
   ]
  },
  {
   "cell_type": "code",
   "execution_count": 28,
   "metadata": {},
   "outputs": [
    {
     "data": {
      "text/html": [
       "<div>\n",
       "<style scoped>\n",
       "    .dataframe tbody tr th:only-of-type {\n",
       "        vertical-align: middle;\n",
       "    }\n",
       "\n",
       "    .dataframe tbody tr th {\n",
       "        vertical-align: top;\n",
       "    }\n",
       "\n",
       "    .dataframe thead th {\n",
       "        text-align: right;\n",
       "    }\n",
       "</style>\n",
       "<table border=\"1\" class=\"dataframe\">\n",
       "  <thead>\n",
       "    <tr style=\"text-align: right;\">\n",
       "      <th></th>\n",
       "      <th>Features</th>\n",
       "      <th>VarImp</th>\n",
       "    </tr>\n",
       "  </thead>\n",
       "  <tbody>\n",
       "    <tr>\n",
       "      <th>11</th>\n",
       "      <td>TotalNumberOfTimeDaysPastDue</td>\n",
       "      <td>0.536933</td>\n",
       "    </tr>\n",
       "    <tr>\n",
       "      <th>0</th>\n",
       "      <td>RevolvingUtilizationOfUnsecuredLines</td>\n",
       "      <td>0.180457</td>\n",
       "    </tr>\n",
       "    <tr>\n",
       "      <th>6</th>\n",
       "      <td>NumberOfTimes90DaysLate</td>\n",
       "      <td>0.180088</td>\n",
       "    </tr>\n",
       "    <tr>\n",
       "      <th>8</th>\n",
       "      <td>NumberOfTime60-89DaysPastDueNotWorse</td>\n",
       "      <td>0.031058</td>\n",
       "    </tr>\n",
       "    <tr>\n",
       "      <th>1</th>\n",
       "      <td>age</td>\n",
       "      <td>0.017083</td>\n",
       "    </tr>\n",
       "    <tr>\n",
       "      <th>3</th>\n",
       "      <td>DebtRatio</td>\n",
       "      <td>0.015544</td>\n",
       "    </tr>\n",
       "    <tr>\n",
       "      <th>5</th>\n",
       "      <td>NumberOfOpenCreditLinesAndLoans</td>\n",
       "      <td>0.011334</td>\n",
       "    </tr>\n",
       "    <tr>\n",
       "      <th>7</th>\n",
       "      <td>NumberRealEstateLoansOrLines</td>\n",
       "      <td>0.008867</td>\n",
       "    </tr>\n",
       "    <tr>\n",
       "      <th>4</th>\n",
       "      <td>MonthlyIncome</td>\n",
       "      <td>0.006742</td>\n",
       "    </tr>\n",
       "    <tr>\n",
       "      <th>10</th>\n",
       "      <td>income_per_capta</td>\n",
       "      <td>0.006510</td>\n",
       "    </tr>\n",
       "    <tr>\n",
       "      <th>2</th>\n",
       "      <td>NumberOfTime30-59DaysPastDueNotWorse</td>\n",
       "      <td>0.004535</td>\n",
       "    </tr>\n",
       "    <tr>\n",
       "      <th>9</th>\n",
       "      <td>NumberOfDependents</td>\n",
       "      <td>0.000849</td>\n",
       "    </tr>\n",
       "  </tbody>\n",
       "</table>\n",
       "</div>"
      ],
      "text/plain": [
       "                                Features    VarImp\n",
       "11          TotalNumberOfTimeDaysPastDue  0.536933\n",
       "0   RevolvingUtilizationOfUnsecuredLines  0.180457\n",
       "6                NumberOfTimes90DaysLate  0.180088\n",
       "8   NumberOfTime60-89DaysPastDueNotWorse  0.031058\n",
       "1                                    age  0.017083\n",
       "3                              DebtRatio  0.015544\n",
       "5        NumberOfOpenCreditLinesAndLoans  0.011334\n",
       "7           NumberRealEstateLoansOrLines  0.008867\n",
       "4                          MonthlyIncome  0.006742\n",
       "10                      income_per_capta  0.006510\n",
       "2   NumberOfTime30-59DaysPastDueNotWorse  0.004535\n",
       "9                     NumberOfDependents  0.000849"
      ]
     },
     "execution_count": 28,
     "metadata": {},
     "output_type": "execute_result"
    }
   ],
   "source": [
    "df_feats = pd.DataFrame(columns=['Features', 'VarImp'])\n",
    "df_feats['Features'] = features_variables\n",
    "df_feats['VarImp'] = gbm_classifier.feature_importances_\n",
    "df_feats.sort_values(by= 'VarImp', inplace=True, ascending=False)\n",
    "df_feats"
   ]
  },
  {
   "cell_type": "markdown",
   "metadata": {},
   "source": [
    "## Evaluating Model - Test dataset\n",
    "* Predicting default probability\n",
    "* Calculating AUC\n",
    "* Ploting score(probability of default) density for two groups(default and non defaul)\n",
    "* Calculating KS - Kolmogorov Smirnov"
   ]
  },
  {
   "cell_type": "code",
   "execution_count": 29,
   "metadata": {},
   "outputs": [],
   "source": [
    "pdct_gbm = gbm_classifier.predict_proba(df_test[features_variables])[:,1]"
   ]
  },
  {
   "cell_type": "code",
   "execution_count": 30,
   "metadata": {},
   "outputs": [
    {
     "name": "stdout",
     "output_type": "stream",
     "text": [
      "Area Under Roc Curve 85.77\n"
     ]
    }
   ],
   "source": [
    "print(\"Area Under Roc Curve\", np.round(100*roc_auc_score(df_test[target].values, pdct_gbm),2))"
   ]
  },
  {
   "cell_type": "markdown",
   "metadata": {},
   "source": [
    "#### Score density\n",
    "* We can see the score distribution is very different between two groups(default and non defaul)"
   ]
  },
  {
   "cell_type": "code",
   "execution_count": 31,
   "metadata": {},
   "outputs": [
    {
     "data": {
      "image/png": "[encoded data removed]",
      "text/plain": [
       "<Figure size 720x576 with 1 Axes>"
      ]
     },
     "metadata": {
      "needs_background": "light"
     },
     "output_type": "display_data"
    }
   ],
   "source": [
    "df_aux = pd.DataFrame(columns=[target, 'Score'])\n",
    "df_aux[target] = df_test[target].values\n",
    "df_aux['Score'] = pdct_gbm\n",
    "\n",
    "PlotDensity(df_aux, target, 'Score')"
   ]
  },
  {
   "cell_type": "markdown",
   "metadata": {},
   "source": [
    "#### KS Value"
   ]
  },
  {
   "cell_type": "code",
   "execution_count": 32,
   "metadata": {},
   "outputs": [
    {
     "name": "stdout",
     "output_type": "stream",
     "text": [
      "KS Value is: 57.04\n"
     ]
    }
   ],
   "source": [
    "print('KS Value is:', np.round(100*ks(df_aux, target, 'Score'),2))"
   ]
  },
  {
   "cell_type": "markdown",
   "metadata": {},
   "source": [
    "## Saving PKL model"
   ]
  },
  {
   "cell_type": "code",
   "execution_count": 33,
   "metadata": {},
   "outputs": [],
   "source": [
    "import pickle\n",
    "pickle.dump(gbm_classifier, open('gradient_boosting_model.pkl', 'wb'))"
   ]
  },
  {
   "cell_type": "code",
   "execution_count": null,
   "metadata": {},
   "outputs": [],
   "source": []
  }
 ],
 "metadata": {
  "kernelspec": {
   "display_name": "Python 3",
   "language": "python",
   "name": "python3"
  },
  "language_info": {
   "codemirror_mode": {
    "name": "ipython",
    "version": 3
   },
   "file_extension": ".py",
   "mimetype": "text/x-python",
   "name": "python",
   "nbconvert_exporter": "python",
   "pygments_lexer": "ipython3",
   "version": "3.8.3"
  }
 },
 "nbformat": 4,
 "nbformat_minor": 4
}
