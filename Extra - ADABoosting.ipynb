{
 "cells": [
  {
   "cell_type": "markdown",
   "metadata": {},
   "source": [
    "# AdaBoosting Algorithm implementation 🚀🚀🚀🚀"
   ]
  },
  {
   "cell_type": "code",
   "execution_count": 1,
   "metadata": {},
   "outputs": [],
   "source": [
    "import pandas as pd\n",
    "import numpy as np\n",
    "import matplotlib.pyplot as plt\n",
    "from sklearn.neighbors import KDTree\n",
    "import seaborn as sns\n",
    "from sklearn import tree\n",
    "from sklearn.metrics import roc_auc_score\n",
    "sns.set()\n",
    "#plt.style.use('classic')\n",
    "%matplotlib inline"
   ]
  },
  {
   "cell_type": "markdown",
   "metadata": {},
   "source": [
    "## Auxiliary functions"
   ]
  },
  {
   "cell_type": "code",
   "execution_count": 72,
   "metadata": {},
   "outputs": [],
   "source": [
    "def ConfusionMatrix(df, var_target, var_score, cut_point):\n",
    "    #Wang, Gang, et al. \"A comparative assessment of ensemble learning for credit scoring.\" Expert systems with applications 38.1 (2011): 223-230.\n",
    "    ### Target Variable must be in original domain, i.e, 1-default and 0-nonDefault\n",
    "    \n",
    "    \n",
    "    df['Predito']=df[var_score].apply(lambda x: 1 if x>=cut_point else 0).values\n",
    "    mtx_confusao = df[[var_target, 'Predito']].groupby(by=[var_target, 'Predito']).size()\n",
    "    \n",
    "    #Positive --> non RISK\n",
    "    # Negativa --> RISK \n",
    "    TP = mtx_confusao[0][0] #non-default and classified as non-default\n",
    "    FN = mtx_confusao[0][1] #non-default and classified as default\n",
    "    FP = mtx_confusao[1][0] #default and classified as non-default\n",
    "    TN = mtx_confusao[1][1] #default and classified as default\n",
    "    \n",
    "    print('TP: ',TP, '       FN: ' ,FN)\n",
    "    print('FP: ',FP, '       TN: ' ,TN)\n",
    "    print('-------------------------------')\n",
    "    print('Type 1 Error(%):', np.round(100*(FN/(TP+FN)), 2))\n",
    "    print('Type 2 Error(%):', np.round(100*(FP/(FP+TN)), 2))\n",
    "    print('-------------------------------')\n",
    "    print('Accuracy(%):', np.round(100*((TP+TN)/df.shape[0]),2))"
   ]
  },
  {
   "cell_type": "code",
   "execution_count": 2,
   "metadata": {},
   "outputs": [],
   "source": [
    "def PlotDensity(df, target_variable, numerical_feature_variable, remove_extreme_values=False):\n",
    "    fig, ax = plt.subplots(figsize=(10,8))\n",
    "\n",
    "    df_aux = df[~df[numerical_feature_variable].isna()][[target_variable, numerical_feature_variable]].copy() #remove missing\n",
    "    if remove_extreme_values == True:\n",
    "        value_extreme = np.quantile(df_aux[numerical_feature_variable].values, 1-0.01) #remove extreme values, because these values may harm visualization\n",
    "        df_aux = df_aux[df_aux[numerical_feature_variable]<value_extreme].copy() #remove extreme values, because these values may harm visualization\n",
    "    \n",
    "    df_aux_1 = df_aux[df_aux[target_variable] == 1].copy() # select default group\n",
    "    df_aux_0 = df_aux[df_aux[target_variable] == 0].copy() # select non default group\n",
    "    \n",
    "    df_aux_1.columns = [target_variable, 'Default']\n",
    "    df_aux_0.columns = [target_variable, 'NonDefault']\n",
    "    \n",
    "    sns.kdeplot(df_aux_1['Default'], shade=True, ax=ax) #display density\n",
    "    sns.kdeplot(df_aux_0['NonDefault'], shade=True, ax=ax) #display density"
   ]
  },
  {
   "cell_type": "code",
   "execution_count": 3,
   "metadata": {},
   "outputs": [],
   "source": [
    "def ks(df, target_variable, score_variable):\n",
    "    \n",
    "    n0_total = df[df[target_variable]==0].shape[0]\n",
    "    n1_total = df[df[target_variable]==1].shape[0]\n",
    "    ks_value=0\n",
    "    for t in df[score_variable].values:\n",
    "        df_ks = df[df[score_variable]<=t].copy()\n",
    "\n",
    "        n0 = df_ks[df_ks[target_variable]==0].shape[0]\n",
    "        n1 = df_ks[df_ks[target_variable]==1].shape[0]\n",
    "\n",
    "        p0 = n0*1.0/n0_total\n",
    "        p1 = n1*1.0/n1_total\n",
    "        ks_aux = abs(p0-p1)\n",
    "\n",
    "        if ks_aux>ks_value:\n",
    "            ks_value = ks_aux\n",
    "            \n",
    "    return ks_value"
   ]
  },
  {
   "cell_type": "markdown",
   "metadata": {},
   "source": [
    "## Ada Boosting"
   ]
  },
  {
   "cell_type": "code",
   "execution_count": 4,
   "metadata": {},
   "outputs": [],
   "source": [
    "class AdaBoostingClassifier():\n",
    "    def __init__(self, nEstimators, maxDepth):\n",
    "        self.__lstAlphas = list()\n",
    "        self.__lstBaseLearners = list()\n",
    "        self.__nEstimators = nEstimators\n",
    "        self.__maxDepth = maxDepth\n",
    "    \n",
    "    def predict_proba(self, df_X):\n",
    "        lst_classifiers = self.__lstBaseLearners\n",
    "        lst_alphas = self.__lstAlphas\n",
    "        n_trees = self.__nEstimators\n",
    "\n",
    "        for i in range(n_trees):\n",
    "            tree_base = lst_classifiers[i]\n",
    "            alpha = lst_alphas[i]\n",
    "\n",
    "            if i==0:\n",
    "                pdct = alpha*tree_base.predict(df_X)\n",
    "            else:\n",
    "                pdct = pdct + alpha*tree_base.predict(df_X)\n",
    "\n",
    "        \n",
    "        pdct = pdct/sum(np.array(lst_alphas))\n",
    "        pdct = np.array([(x+1)/2 for x in pdct])\n",
    "        return pdct\n",
    "    \n",
    "    def predict(self, df_X):\n",
    "        lst_classifiers = self.__lstBaseLearners\n",
    "        lst_alphas = self.__lstAlphas\n",
    "        n_trees = self.__nEstimators\n",
    "\n",
    "        for i in range(n_trees):\n",
    "            tree_base = lst_classifiers[i]\n",
    "            alpha = lst_alphas[i]\n",
    "\n",
    "            if i==0:\n",
    "                pdct = alpha*tree_base.predict(df_X)\n",
    "            else:\n",
    "                pdct = pdct + alpha*tree_base.predict(df_X)\n",
    "\n",
    "        pdct = [1 if x>0 else -1 for x in pdct]\n",
    "        return np.array(pdct)\n",
    "    \n",
    "    def fit_adaBoost(self, df, lst_predvars, var_target):\n",
    "        lst_ensemble_classifiers = list()\n",
    "        lst_ensemble_alpha = list()\n",
    "        n_obs = df.shape[0]\n",
    "        vec_weights = np.array([1/n_obs for x in range(n_obs)])\n",
    "        \n",
    "        vec_y_original = df[var_target].values\n",
    "        for i in range(self.__nEstimators):\n",
    "            #### Perform bootstrap sample ########\n",
    "            \n",
    "            df_aux = df.sample(frac=1, replace=True, weights=vec_weights)\n",
    "            df_X = df_aux[lst_predvars].copy()\n",
    "            vec_y = df_aux[var_target].values\n",
    "\n",
    "            ###### Train base classifier ######\n",
    "            tree_ensemble_aux = tree.DecisionTreeClassifier(criterion='entropy', max_depth=self.__maxDepth)\n",
    "            tree_ensemble_aux_fit = tree_ensemble_aux.fit(df_X, vec_y)\n",
    "\n",
    "            ###### update weights #######\n",
    "            pdct_aux = tree_ensemble_aux_fit.predict(df[lst_predvars].copy())\n",
    "\n",
    "            err = 0\n",
    "            for j in range(len(vec_y_original)):\n",
    "                if vec_y_original[j] != pdct_aux[j]:\n",
    "                    err = err + vec_weights[j]\n",
    "            #err = err/sum(vec_weights)\n",
    "\n",
    "            #alpha = np.log10((1-err)/err)\n",
    "            alpha = 0.5*np.log10((1/err) - 1)\n",
    "            \n",
    "            for j in range(len(vec_y_original)):\n",
    "                if vec_y_original[j] != pdct_aux[j]:\n",
    "                    vec_weights[j] = vec_weights[j]*np.exp(alpha)\n",
    "                else:\n",
    "                    vec_weights[j] = vec_weights[j]*np.exp(-alpha)\n",
    "            \n",
    "            vec_weights = vec_weights/sum(vec_weights)\n",
    "            ### Store base classifiers ######\n",
    "            lst_ensemble_classifiers.append(tree_ensemble_aux_fit)\n",
    "            lst_ensemble_alpha.append(alpha)\n",
    "            \n",
    "        self.__lstAlphas = lst_ensemble_alpha\n",
    "        self.__lstBaseLearners = lst_ensemble_classifiers\n",
    "        "
   ]
  },
  {
   "cell_type": "markdown",
   "metadata": {},
   "source": [
    "## Dataset Variables"
   ]
  },
  {
   "cell_type": "code",
   "execution_count": 5,
   "metadata": {},
   "outputs": [],
   "source": [
    "target = 'SeriousDlqin2yrs'\n",
    "\n",
    "lst_features = ['RevolvingUtilizationOfUnsecuredLines', 'age',\n",
    "                'NumberOfTime30-59DaysPastDueNotWorse', 'DebtRatio', 'MonthlyIncome',\n",
    "                'NumberOfOpenCreditLinesAndLoans', 'NumberOfTimes90DaysLate',\n",
    "                'NumberRealEstateLoansOrLines', 'NumberOfTime60-89DaysPastDueNotWorse',\n",
    "                'NumberOfDependents']"
   ]
  },
  {
   "cell_type": "markdown",
   "metadata": {},
   "source": [
    "### Loading Data"
   ]
  },
  {
   "cell_type": "code",
   "execution_count": 6,
   "metadata": {},
   "outputs": [
    {
     "data": {
      "text/plain": [
       "(150000, 11)"
      ]
     },
     "execution_count": 6,
     "metadata": {},
     "output_type": "execute_result"
    }
   ],
   "source": [
    "df_dados = pd.read_csv('../GiveMeSomeCredit/cs-training.csv')\n",
    "df_dados.drop(columns='Unnamed: 0', inplace=True)\n",
    "df_dados.shape"
   ]
  },
  {
   "cell_type": "code",
   "execution_count": 7,
   "metadata": {},
   "outputs": [],
   "source": [
    "# Using label -1 and 1 as described in reference [1]\n",
    "## SeriousDlqin2yrs ===> 1 is default   -1 is non-default\n",
    "df_dados['SeriousDlqin2yrs'] = df_dados['SeriousDlqin2yrs'].apply(lambda x: -1 if x==0 else x).values"
   ]
  },
  {
   "cell_type": "code",
   "execution_count": 8,
   "metadata": {},
   "outputs": [
    {
     "data": {
      "text/html": [
       "<div>\n",
       "<style scoped>\n",
       "    .dataframe tbody tr th:only-of-type {\n",
       "        vertical-align: middle;\n",
       "    }\n",
       "\n",
       "    .dataframe tbody tr th {\n",
       "        vertical-align: top;\n",
       "    }\n",
       "\n",
       "    .dataframe thead th {\n",
       "        text-align: right;\n",
       "    }\n",
       "</style>\n",
       "<table border=\"1\" class=\"dataframe\">\n",
       "  <thead>\n",
       "    <tr style=\"text-align: right;\">\n",
       "      <th></th>\n",
       "      <th>SeriousDlqin2yrs</th>\n",
       "      <th>RevolvingUtilizationOfUnsecuredLines</th>\n",
       "      <th>age</th>\n",
       "      <th>NumberOfTime30-59DaysPastDueNotWorse</th>\n",
       "      <th>DebtRatio</th>\n",
       "      <th>MonthlyIncome</th>\n",
       "      <th>NumberOfOpenCreditLinesAndLoans</th>\n",
       "      <th>NumberOfTimes90DaysLate</th>\n",
       "      <th>NumberRealEstateLoansOrLines</th>\n",
       "      <th>NumberOfTime60-89DaysPastDueNotWorse</th>\n",
       "      <th>NumberOfDependents</th>\n",
       "    </tr>\n",
       "  </thead>\n",
       "  <tbody>\n",
       "    <tr>\n",
       "      <th>0</th>\n",
       "      <td>1</td>\n",
       "      <td>0.766127</td>\n",
       "      <td>45</td>\n",
       "      <td>2</td>\n",
       "      <td>0.802982</td>\n",
       "      <td>9120.0</td>\n",
       "      <td>13</td>\n",
       "      <td>0</td>\n",
       "      <td>6</td>\n",
       "      <td>0</td>\n",
       "      <td>2.0</td>\n",
       "    </tr>\n",
       "    <tr>\n",
       "      <th>1</th>\n",
       "      <td>-1</td>\n",
       "      <td>0.957151</td>\n",
       "      <td>40</td>\n",
       "      <td>0</td>\n",
       "      <td>0.121876</td>\n",
       "      <td>2600.0</td>\n",
       "      <td>4</td>\n",
       "      <td>0</td>\n",
       "      <td>0</td>\n",
       "      <td>0</td>\n",
       "      <td>1.0</td>\n",
       "    </tr>\n",
       "    <tr>\n",
       "      <th>2</th>\n",
       "      <td>-1</td>\n",
       "      <td>0.658180</td>\n",
       "      <td>38</td>\n",
       "      <td>1</td>\n",
       "      <td>0.085113</td>\n",
       "      <td>3042.0</td>\n",
       "      <td>2</td>\n",
       "      <td>1</td>\n",
       "      <td>0</td>\n",
       "      <td>0</td>\n",
       "      <td>0.0</td>\n",
       "    </tr>\n",
       "    <tr>\n",
       "      <th>3</th>\n",
       "      <td>-1</td>\n",
       "      <td>0.233810</td>\n",
       "      <td>30</td>\n",
       "      <td>0</td>\n",
       "      <td>0.036050</td>\n",
       "      <td>3300.0</td>\n",
       "      <td>5</td>\n",
       "      <td>0</td>\n",
       "      <td>0</td>\n",
       "      <td>0</td>\n",
       "      <td>0.0</td>\n",
       "    </tr>\n",
       "    <tr>\n",
       "      <th>4</th>\n",
       "      <td>-1</td>\n",
       "      <td>0.907239</td>\n",
       "      <td>49</td>\n",
       "      <td>1</td>\n",
       "      <td>0.024926</td>\n",
       "      <td>63588.0</td>\n",
       "      <td>7</td>\n",
       "      <td>0</td>\n",
       "      <td>1</td>\n",
       "      <td>0</td>\n",
       "      <td>0.0</td>\n",
       "    </tr>\n",
       "    <tr>\n",
       "      <th>...</th>\n",
       "      <td>...</td>\n",
       "      <td>...</td>\n",
       "      <td>...</td>\n",
       "      <td>...</td>\n",
       "      <td>...</td>\n",
       "      <td>...</td>\n",
       "      <td>...</td>\n",
       "      <td>...</td>\n",
       "      <td>...</td>\n",
       "      <td>...</td>\n",
       "      <td>...</td>\n",
       "    </tr>\n",
       "    <tr>\n",
       "      <th>149995</th>\n",
       "      <td>-1</td>\n",
       "      <td>0.040674</td>\n",
       "      <td>74</td>\n",
       "      <td>0</td>\n",
       "      <td>0.225131</td>\n",
       "      <td>2100.0</td>\n",
       "      <td>4</td>\n",
       "      <td>0</td>\n",
       "      <td>1</td>\n",
       "      <td>0</td>\n",
       "      <td>0.0</td>\n",
       "    </tr>\n",
       "    <tr>\n",
       "      <th>149996</th>\n",
       "      <td>-1</td>\n",
       "      <td>0.299745</td>\n",
       "      <td>44</td>\n",
       "      <td>0</td>\n",
       "      <td>0.716562</td>\n",
       "      <td>5584.0</td>\n",
       "      <td>4</td>\n",
       "      <td>0</td>\n",
       "      <td>1</td>\n",
       "      <td>0</td>\n",
       "      <td>2.0</td>\n",
       "    </tr>\n",
       "    <tr>\n",
       "      <th>149997</th>\n",
       "      <td>-1</td>\n",
       "      <td>0.246044</td>\n",
       "      <td>58</td>\n",
       "      <td>0</td>\n",
       "      <td>3870.000000</td>\n",
       "      <td>NaN</td>\n",
       "      <td>18</td>\n",
       "      <td>0</td>\n",
       "      <td>1</td>\n",
       "      <td>0</td>\n",
       "      <td>0.0</td>\n",
       "    </tr>\n",
       "    <tr>\n",
       "      <th>149998</th>\n",
       "      <td>-1</td>\n",
       "      <td>0.000000</td>\n",
       "      <td>30</td>\n",
       "      <td>0</td>\n",
       "      <td>0.000000</td>\n",
       "      <td>5716.0</td>\n",
       "      <td>4</td>\n",
       "      <td>0</td>\n",
       "      <td>0</td>\n",
       "      <td>0</td>\n",
       "      <td>0.0</td>\n",
       "    </tr>\n",
       "    <tr>\n",
       "      <th>149999</th>\n",
       "      <td>-1</td>\n",
       "      <td>0.850283</td>\n",
       "      <td>64</td>\n",
       "      <td>0</td>\n",
       "      <td>0.249908</td>\n",
       "      <td>8158.0</td>\n",
       "      <td>8</td>\n",
       "      <td>0</td>\n",
       "      <td>2</td>\n",
       "      <td>0</td>\n",
       "      <td>0.0</td>\n",
       "    </tr>\n",
       "  </tbody>\n",
       "</table>\n",
       "<p>150000 rows × 11 columns</p>\n",
       "</div>"
      ],
      "text/plain": [
       "        SeriousDlqin2yrs  RevolvingUtilizationOfUnsecuredLines  age  \\\n",
       "0                      1                              0.766127   45   \n",
       "1                     -1                              0.957151   40   \n",
       "2                     -1                              0.658180   38   \n",
       "3                     -1                              0.233810   30   \n",
       "4                     -1                              0.907239   49   \n",
       "...                  ...                                   ...  ...   \n",
       "149995                -1                              0.040674   74   \n",
       "149996                -1                              0.299745   44   \n",
       "149997                -1                              0.246044   58   \n",
       "149998                -1                              0.000000   30   \n",
       "149999                -1                              0.850283   64   \n",
       "\n",
       "        NumberOfTime30-59DaysPastDueNotWorse    DebtRatio  MonthlyIncome  \\\n",
       "0                                          2     0.802982         9120.0   \n",
       "1                                          0     0.121876         2600.0   \n",
       "2                                          1     0.085113         3042.0   \n",
       "3                                          0     0.036050         3300.0   \n",
       "4                                          1     0.024926        63588.0   \n",
       "...                                      ...          ...            ...   \n",
       "149995                                     0     0.225131         2100.0   \n",
       "149996                                     0     0.716562         5584.0   \n",
       "149997                                     0  3870.000000            NaN   \n",
       "149998                                     0     0.000000         5716.0   \n",
       "149999                                     0     0.249908         8158.0   \n",
       "\n",
       "        NumberOfOpenCreditLinesAndLoans  NumberOfTimes90DaysLate  \\\n",
       "0                                    13                        0   \n",
       "1                                     4                        0   \n",
       "2                                     2                        1   \n",
       "3                                     5                        0   \n",
       "4                                     7                        0   \n",
       "...                                 ...                      ...   \n",
       "149995                                4                        0   \n",
       "149996                                4                        0   \n",
       "149997                               18                        0   \n",
       "149998                                4                        0   \n",
       "149999                                8                        0   \n",
       "\n",
       "        NumberRealEstateLoansOrLines  NumberOfTime60-89DaysPastDueNotWorse  \\\n",
       "0                                  6                                     0   \n",
       "1                                  0                                     0   \n",
       "2                                  0                                     0   \n",
       "3                                  0                                     0   \n",
       "4                                  1                                     0   \n",
       "...                              ...                                   ...   \n",
       "149995                             1                                     0   \n",
       "149996                             1                                     0   \n",
       "149997                             1                                     0   \n",
       "149998                             0                                     0   \n",
       "149999                             2                                     0   \n",
       "\n",
       "        NumberOfDependents  \n",
       "0                      2.0  \n",
       "1                      1.0  \n",
       "2                      0.0  \n",
       "3                      0.0  \n",
       "4                      0.0  \n",
       "...                    ...  \n",
       "149995                 0.0  \n",
       "149996                 2.0  \n",
       "149997                 0.0  \n",
       "149998                 0.0  \n",
       "149999                 0.0  \n",
       "\n",
       "[150000 rows x 11 columns]"
      ]
     },
     "execution_count": 8,
     "metadata": {},
     "output_type": "execute_result"
    }
   ],
   "source": [
    "df_dados"
   ]
  },
  {
   "cell_type": "markdown",
   "metadata": {},
   "source": [
    "## Checking missing quantity"
   ]
  },
  {
   "cell_type": "code",
   "execution_count": 9,
   "metadata": {},
   "outputs": [
    {
     "name": "stdout",
     "output_type": "stream",
     "text": [
      "Variável:  MonthlyIncome   Nº missing:  29731\n",
      "Variável:  NumberOfDependents   Nº missing:  3924\n"
     ]
    }
   ],
   "source": [
    "lst_missing_features = list()\n",
    "for c in lst_features:\n",
    "    nmiss = df_dados[df_dados[c].isna()].shape[0]\n",
    "    if nmiss > 0:\n",
    "        print('Variável: ', c, '  Nº missing: ', nmiss)\n",
    "        lst_missing_features.append(c)"
   ]
  },
  {
   "cell_type": "markdown",
   "metadata": {},
   "source": [
    "## Fill missing values using median"
   ]
  },
  {
   "cell_type": "code",
   "execution_count": 10,
   "metadata": {},
   "outputs": [],
   "source": [
    "for c in lst_missing_features:\n",
    "    vec_valores = df_dados[~df_dados[c].isna()][c].values\n",
    "    valor = np.median(vec_valores)\n",
    "    df_dados[c] = df_dados[c].fillna(valor).values"
   ]
  },
  {
   "cell_type": "markdown",
   "metadata": {},
   "source": [
    "## Splitting Train and Test"
   ]
  },
  {
   "cell_type": "code",
   "execution_count": 11,
   "metadata": {},
   "outputs": [],
   "source": [
    "df_test = df_dados.sample(frac=0.1, random_state=22111988, replace= False)\n",
    "df_treino = df_dados.drop(index = df_test.index)"
   ]
  },
  {
   "cell_type": "markdown",
   "metadata": {},
   "source": [
    "## Fitting Model"
   ]
  },
  {
   "cell_type": "code",
   "execution_count": 12,
   "metadata": {},
   "outputs": [],
   "source": [
    "obj_adaBoost = AdaBoostingClassifier(nEstimators = 1000, maxDepth = 2)"
   ]
  },
  {
   "cell_type": "code",
   "execution_count": 13,
   "metadata": {},
   "outputs": [],
   "source": [
    "obj_adaBoost.fit_adaBoost(df_treino, lst_features, target)"
   ]
  },
  {
   "cell_type": "markdown",
   "metadata": {},
   "source": [
    "### Evaluating Model - Train dataset"
   ]
  },
  {
   "cell_type": "code",
   "execution_count": 14,
   "metadata": {},
   "outputs": [],
   "source": [
    "pdct = obj_adaBoost.predict_proba(df_treino[lst_features])"
   ]
  },
  {
   "cell_type": "code",
   "execution_count": 15,
   "metadata": {},
   "outputs": [
    {
     "name": "stdout",
     "output_type": "stream",
     "text": [
      "Area Under Roc Curve 86.41\n"
     ]
    }
   ],
   "source": [
    "print(\"Area Under Roc Curve\", np.round(100*roc_auc_score(df_treino[target].values, pdct),2))"
   ]
  },
  {
   "cell_type": "markdown",
   "metadata": {},
   "source": [
    "###### Score density plot"
   ]
  },
  {
   "cell_type": "code",
   "execution_count": 17,
   "metadata": {},
   "outputs": [
    {
     "data": {
      "image/png": "[encoded data removed]",
      "text/plain": [
       "<Figure size 720x576 with 1 Axes>"
      ]
     },
     "metadata": {
      "needs_background": "light"
     },
     "output_type": "display_data"
    }
   ],
   "source": [
    "df_aux = pd.DataFrame(columns=[target, 'Score'])\n",
    "df_aux[target] = df_treino[target].values\n",
    "df_aux['Score'] = pdct\n",
    "\n",
    "df_aux[target] = df_aux[target].apply(lambda x: 0 if x==-1 else x).values\n",
    "PlotDensity(df_aux, target, 'Score')"
   ]
  },
  {
   "cell_type": "code",
   "execution_count": 76,
   "metadata": {},
   "outputs": [
    {
     "name": "stdout",
     "output_type": "stream",
     "text": [
      "TP:  114850        FN:  11163\n",
      "FP:  3624        TN:  5363\n",
      "-------------------------------\n",
      "Type 1 Error(%): 8.86\n",
      "Type 2 Error(%): 40.32\n",
      "-------------------------------\n",
      "Accuracy(%): 89.05\n"
     ]
    }
   ],
   "source": [
    "ConfusionMatrix(df_aux, target, 'Score', 0.4)"
   ]
  },
  {
   "cell_type": "code",
   "execution_count": 77,
   "metadata": {},
   "outputs": [],
   "source": [
    "#print('KS Value is:', np.round(100*ks(df_aux, target, 'Score'),2))"
   ]
  },
  {
   "cell_type": "markdown",
   "metadata": {},
   "source": [
    "### Evaluating Model - Test dataset"
   ]
  },
  {
   "cell_type": "code",
   "execution_count": 78,
   "metadata": {},
   "outputs": [],
   "source": [
    "pdct = obj_adaBoost.predict_proba(df_test[lst_features])"
   ]
  },
  {
   "cell_type": "code",
   "execution_count": 79,
   "metadata": {},
   "outputs": [
    {
     "name": "stdout",
     "output_type": "stream",
     "text": [
      "Area Under Roc Curve 85.82\n"
     ]
    }
   ],
   "source": [
    "print(\"Area Under Roc Curve\", np.round(100*roc_auc_score(df_test[target].values, pdct),2))"
   ]
  },
  {
   "cell_type": "markdown",
   "metadata": {},
   "source": [
    "###### Score density plot"
   ]
  },
  {
   "cell_type": "code",
   "execution_count": 80,
   "metadata": {},
   "outputs": [
    {
     "data": {
      "image/png": "[encoded data removed]",
      "text/plain": [
       "<Figure size 720x576 with 1 Axes>"
      ]
     },
     "metadata": {
      "needs_background": "light"
     },
     "output_type": "display_data"
    }
   ],
   "source": [
    "df_aux = pd.DataFrame(columns=[target, 'Score'])\n",
    "df_aux[target] = df_test[target].values\n",
    "df_aux['Score'] = pdct\n",
    "\n",
    "df_aux[target] = df_aux[target].apply(lambda x: 0 if x==-1 else x).values\n",
    "PlotDensity(df_aux, target, 'Score')"
   ]
  },
  {
   "cell_type": "code",
   "execution_count": 81,
   "metadata": {},
   "outputs": [
    {
     "name": "stdout",
     "output_type": "stream",
     "text": [
      "TP:  12708        FN:  1253\n",
      "FP:  443        TN:  596\n",
      "-------------------------------\n",
      "Type 1 Error(%): 8.98\n",
      "Type 2 Error(%): 42.64\n",
      "-------------------------------\n",
      "Accuracy(%): 88.69\n"
     ]
    }
   ],
   "source": [
    "ConfusionMatrix(df_aux, target, 'Score', 0.4)"
   ]
  },
  {
   "cell_type": "code",
   "execution_count": 21,
   "metadata": {},
   "outputs": [],
   "source": [
    "#print('KS Value is:', np.round(100*ks(df_aux, target, 'Score'),2))"
   ]
  },
  {
   "cell_type": "markdown",
   "metadata": {},
   "source": [
    "## Reference\n",
    "* 1 - Shalev-Shwartz, S., Ben-David, S. (2014). Understanding Machine Learning: From Theory to Algorithms. Reino Unido: Cambridge University Press.\n",
    "* 2 - Wang, Gang, et al. \"A comparative assessment of ensemble learning for credit scoring.\" Expert systems with applications 38.1 (2011): 223-230."
   ]
  },
  {
   "cell_type": "code",
   "execution_count": null,
   "metadata": {},
   "outputs": [],
   "source": []
  }
 ],
 "metadata": {
  "kernelspec": {
   "display_name": "Python 3",
   "language": "python",
   "name": "python3"
  },
  "language_info": {
   "codemirror_mode": {
    "name": "ipython",
    "version": 3
   },
   "file_extension": ".py",
   "mimetype": "text/x-python",
   "name": "python",
   "nbconvert_exporter": "python",
   "pygments_lexer": "ipython3",
   "version": "3.8.3"
  }
 },
 "nbformat": 4,
 "nbformat_minor": 4
}
